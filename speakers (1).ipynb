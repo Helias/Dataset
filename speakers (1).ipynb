{
  "nbformat": 4,
  "nbformat_minor": 0,
  "metadata": {
    "colab": {
      "provenance": [],
      "collapsed_sections": []
    },
    "kernelspec": {
      "display_name": "Python 3",
      "name": "python3"
    }
  },
  "cells": [
    {
      "cell_type": "code",
      "metadata": {
        "id": "f2h_NNWj6m2b"
      },
      "source": [
        "import matplotlib.pyplot as plt\n",
        "import numpy as np\n",
        "from matplotlib import cm\n",
        "import librosa\n",
        "import csv\n",
        "import os"
      ],
      "execution_count": null,
      "outputs": []
    },
    {
      "cell_type": "code",
      "metadata": {
        "id": "o8XVfd8b6XIb"
      },
      "source": [
        "# If true, the WAV files will be read and their features will be saved in the CSV files\n",
        "# As this is the most time consuming task, only enable it if you don't have the CSV files yet\n",
        "CREATE_CSV_FILES = True"
      ],
      "execution_count": null,
      "outputs": []
    },
    {
      "cell_type": "code",
      "metadata": {
        "id": "G7GLTMBa65iO"
      },
      "source": [
        "# Defines the names of the CSV files\n",
        "TRAIN_CSV_FILE = \"train.csv\"\n",
        "TEST_CSV_FILE = \"test.csv\"\n",
        "#MORE_TRAIN_CSV_FILE = \"more_train.csv\"\n",
        "#MORE_TEST_CSV_FILE = \"more_test.csv\""
      ],
      "execution_count": null,
      "outputs": []
    },
    {
      "cell_type": "code",
      "metadata": {
        "colab": {
          "base_uri": "https://localhost:8080/"
        },
        "id": "BuvJJsqE684s",
        "outputId": "e89f3111-b916-4601-b5ab-0e3cb9e91568"
      },
      "source": [
        "\n",
        "def extractWavFeatures(soundFilesFolder, csvFileName):\n",
        "    print(\"The features of the files in the folder \"+soundFilesFolder+\" will be saved to \"+csvFileName)\n",
        "    header = 'filename chroma_stft rmse spectral_centroid spectral_bandwidth rolloff zero_crossing_rate'\n",
        "    for i in range(1, 21):\n",
        "        header += f' mfcc{i}'\n",
        "    header += ' label'\n",
        "    header = header.split()\n",
        "    print('CSV Header: ', header)\n",
        "    file = open(csvFileName, 'w', newline='')\n",
        "    #with file:\n",
        "    writer = csv.writer(file)\n",
        "    writer.writerow(header)\n",
        "    genres = 'real fake'.split()\n",
        "    for filename in os.listdir(soundFilesFolder):\n",
        "        number = f'{soundFilesFolder}/{filename}'\n",
        "        y, sr = librosa.load(number, mono=True, duration=3)\n",
        "        # remove leading and trailing silence\n",
        "        y, index = librosa.effects.trim(y)\n",
        "        chroma_stft = librosa.feature.chroma_stft(y=y, sr=sr)\n",
        "        rmse = librosa.feature.rms(y=y)\n",
        "        spec_cent = librosa.feature.spectral_centroid(y=y, sr=sr)\n",
        "        spec_bw = librosa.feature.spectral_bandwidth(y=y, sr=sr)\n",
        "        rolloff = librosa.feature.spectral_rolloff(y=y, sr=sr)\n",
        "        zcr = librosa.feature.zero_crossing_rate(y)\n",
        "        mfcc = librosa.feature.mfcc(y=y, sr=sr)\n",
        "        to_append = f'{filename} {np.mean(chroma_stft)} {np.mean(rmse)} {np.mean(spec_cent)} {np.mean(spec_bw)} {np.mean(rolloff)} {np.mean(zcr)}'\n",
        "        for e in mfcc:\n",
        "            to_append += f' {np.mean(e)}'\n",
        "        writer.writerow(to_append.split())\n",
        "    file.close()\n",
        "    print(\"End of extractWavFeatures\")\n",
        "\n",
        "if (CREATE_CSV_FILES == True):\n",
        "    extractWavFeatures(\"data/test\", TEST_CSV_FILE) \n",
        "    extractWavFeatures(\"data/train\", TRAIN_CSV_FILE)\n",
        "   \n",
        "    print(\"CSV files are created\")\n",
        "else:\n",
        "    print(\"CSV files creation is skipped\")"
      ],
      "execution_count": null,
      "outputs": [
        {
          "output_type": "stream",
          "name": "stdout",
          "text": [
            "The features of the files in the folder data/test will be saved to test.csv\n",
            "CSV Header:  ['filename', 'chroma_stft', 'rmse', 'spectral_centroid', 'spectral_bandwidth', 'rolloff', 'zero_crossing_rate', 'mfcc1', 'mfcc2', 'mfcc3', 'mfcc4', 'mfcc5', 'mfcc6', 'mfcc7', 'mfcc8', 'mfcc9', 'mfcc10', 'mfcc11', 'mfcc12', 'mfcc13', 'mfcc14', 'mfcc15', 'mfcc16', 'mfcc17', 'mfcc18', 'mfcc19', 'mfcc20', 'label']\n",
            "End of extractWavFeatures\n",
            "The features of the files in the folder data/train will be saved to train.csv\n",
            "CSV Header:  ['filename', 'chroma_stft', 'rmse', 'spectral_centroid', 'spectral_bandwidth', 'rolloff', 'zero_crossing_rate', 'mfcc1', 'mfcc2', 'mfcc3', 'mfcc4', 'mfcc5', 'mfcc6', 'mfcc7', 'mfcc8', 'mfcc9', 'mfcc10', 'mfcc11', 'mfcc12', 'mfcc13', 'mfcc14', 'mfcc15', 'mfcc16', 'mfcc17', 'mfcc18', 'mfcc19', 'mfcc20', 'label']\n",
            "End of extractWavFeatures\n",
            "CSV files are created\n"
          ]
        }
      ]
    },
    {
      "cell_type": "code",
      "metadata": {
        "colab": {
          "base_uri": "https://localhost:8080/"
        },
        "id": "TJe4UVuG7URC",
        "outputId": "42a5d695-2645-4f11-de3a-e4e72777d75c"
      },
      "source": [
        "#Reading a dataset \n",
        "\n",
        "import pandas as pd\n",
        "import csv\n",
        "from sklearn import preprocessing\n",
        "\n",
        "def preProcessData(csvFileName):\n",
        "    print(csvFileName+ \" will be preprocessed\")\n",
        "    data = pd.read_csv(csvFileName)\n",
        "    filenameArray = data['filename'] \n",
        "    soundArray = []\n",
        "    \n",
        "    for i in range(len(filenameArray)):\n",
        "        sound = filenameArray[i][4]\n",
        "        if sound == \"f\":\n",
        "            sound = \"0\"\n",
        "        else: \n",
        "            sound = \"1\"\n",
        "        soundArray.append(sound)\n",
        "    data['fake(0)/real(1)'] = soundArray\n",
        "    \n",
        "    #Dropping unnecessary columns\n",
        "    data = data.drop(['filename'],axis=1)\n",
        "    data = data.drop(['label'],axis=1)\n",
        "    data = data.drop(['chroma_stft'],axis=1)\n",
        "    data.shape\n",
        "\n",
        "    print(\"Preprocessing is finished\")\n",
        "    print(data)\n",
        "    return data\n",
        "\n",
        "trainData = preProcessData(TRAIN_CSV_FILE)\n",
        "testData = preProcessData(TEST_CSV_FILE)"
      ],
      "execution_count": null,
      "outputs": [
        {
          "output_type": "stream",
          "name": "stdout",
          "text": [
            "train.csv will be preprocessed\n",
            "Preprocessing is finished\n",
            "          rmse  spectral_centroid  spectral_bandwidth      rolloff  \\\n",
            "0     0.034180        1668.499512         1931.042986  3549.831355   \n",
            "1     0.021000        2285.333847         2078.051071  4437.413424   \n",
            "2     0.050395        2520.792678         2095.533805  4588.145846   \n",
            "3     0.033419        1244.333072         1363.402056  2314.322416   \n",
            "4     0.155624         610.774970         1354.636615  1060.675894   \n",
            "...        ...                ...                 ...          ...   \n",
            "1721  0.048439        2388.029478         2371.731559  4676.266339   \n",
            "1722  0.021571        1974.492901         1784.187394  4006.086801   \n",
            "1723  0.026254        2469.095902         2081.365811  4407.598220   \n",
            "1724  0.086118        2466.251183         1995.966252  4459.277907   \n",
            "1725  0.015375        2224.121561         2600.205771  5107.592961   \n",
            "\n",
            "      zero_crossing_rate       mfcc1       mfcc2      mfcc3      mfcc4  \\\n",
            "0               0.075883 -317.682739  125.594170 -10.551296  39.107578   \n",
            "1               0.114938 -306.967224   86.352386 -45.065014  13.220994   \n",
            "2               0.165828 -293.701935   93.260078 -21.459564  39.693501   \n",
            "3               0.067939 -347.225647  153.921768 -19.860266  30.877554   \n",
            "4               0.010825 -319.213135  123.525932  17.571198  26.839479   \n",
            "...                  ...         ...         ...        ...        ...   \n",
            "1721            0.131002 -279.913635   79.839561  18.476648  30.238594   \n",
            "1722            0.103842 -328.775848  116.810524 -42.521950  64.042877   \n",
            "1723            0.157918 -362.499268   87.291267 -17.928530  40.048580   \n",
            "1724            0.156182 -276.038422   91.641991 -47.719906  12.318085   \n",
            "1725            0.092514 -387.321045   97.893669  18.178455  18.703951   \n",
            "\n",
            "          mfcc5  ...     mfcc12     mfcc13     mfcc14     mfcc15    mfcc16  \\\n",
            "0     16.686037  ...   5.968605   3.103173   5.685068  -3.517712  3.200421   \n",
            "1    -27.725321  ...  -5.060811 -14.218973  -2.106550  -9.817135  3.340336   \n",
            "2     11.339577  ...   9.603717 -14.536390 -12.303791   5.980660 -5.071312   \n",
            "3     -5.580781  ... -11.630945  -0.307690  -8.779072  -1.268764 -7.597798   \n",
            "4     32.150406  ...  13.857342   5.856003   8.262341  10.047656  7.611200   \n",
            "...         ...  ...        ...        ...        ...        ...       ...   \n",
            "1721  -0.304735  ...  -6.598882  -8.402861  -4.582676  -5.717072 -4.839275   \n",
            "1722 -26.239555  ... -12.563019   5.768204  -6.546067   3.432244 -8.117812   \n",
            "1723  19.528072  ...   1.921619 -11.375549  -4.797867   5.801071 -4.497665   \n",
            "1724   6.437813  ...   2.254773  -9.910292  -8.141305   6.848052 -4.112238   \n",
            "1725  11.645022  ...   0.604516  -4.727904   1.979092  -2.205940  8.250033   \n",
            "\n",
            "         mfcc17     mfcc18     mfcc19    mfcc20  fake(0)/real(1)  \n",
            "0     -8.261959  -5.873692  -5.119587 -5.908155                0  \n",
            "1    -11.947133 -11.330423 -13.046369 -6.897550                0  \n",
            "2     -8.650858   2.234367 -19.276699  8.082246                0  \n",
            "3     -3.591662 -10.366803  -6.630301 -2.690367                1  \n",
            "4      1.222090   9.238463   6.456387  0.924751                0  \n",
            "...         ...        ...        ...       ...              ...  \n",
            "1721 -12.386527  -6.143230  -7.573254 -5.020414                0  \n",
            "1722   7.497486  -8.267379  -4.207213 -1.210499                1  \n",
            "1723   0.083682   3.859899 -13.733687  4.992855                0  \n",
            "1724  -7.959238   1.330388 -10.561821  0.802223                0  \n",
            "1725   2.387479   0.143632  -4.710601 -1.307774                0  \n",
            "\n",
            "[1726 rows x 26 columns]\n",
            "test.csv will be preprocessed\n",
            "Preprocessing is finished\n",
            "         rmse  spectral_centroid  spectral_bandwidth      rolloff  \\\n",
            "0    0.022751        2249.787185         2376.128899  4695.149301   \n",
            "1    0.049245        3465.137831         2820.354304  6801.179387   \n",
            "2    0.020501        1525.980523         1548.727499  2772.896822   \n",
            "3    0.027919        2323.886833         2466.548211  5144.861967   \n",
            "4    0.052694        2629.982238         2126.740805  5233.562200   \n",
            "..        ...                ...                 ...          ...   \n",
            "129  0.004787        1750.094520         2048.088351  3545.441895   \n",
            "130  0.037639        1627.004273         1580.014698  2967.772311   \n",
            "131  0.049074        1622.427320         1529.049987  2990.961914   \n",
            "132  0.020168        2309.825471         2097.182748  4317.572867   \n",
            "133  0.046054        1507.294385         1552.013291  2854.060434   \n",
            "\n",
            "     zero_crossing_rate       mfcc1       mfcc2      mfcc3      mfcc4  \\\n",
            "0              0.104353 -266.537506  100.207375  -2.550580  26.464508   \n",
            "1              0.205529 -174.206604   42.279720  -6.944875  15.448704   \n",
            "2              0.079714 -381.317749  140.187225 -20.570433  31.324745   \n",
            "3              0.112954 -274.121552  107.466934  19.567888  14.321390   \n",
            "4              0.157039 -277.065918   87.989265  -7.939995  54.299805   \n",
            "..                  ...         ...         ...        ...        ...   \n",
            "129            0.080123 -449.910583  120.838371  -4.420218  34.616032   \n",
            "130            0.084593 -295.014557  137.690628 -38.313507  24.982122   \n",
            "131            0.102840 -295.802673  137.366684 -27.608025  28.890900   \n",
            "132            0.124921 -387.965210   98.773605 -21.788591   4.870010   \n",
            "133            0.091902 -311.278046  154.806519  -6.527535  25.394995   \n",
            "\n",
            "         mfcc5  ...    mfcc12     mfcc13     mfcc14     mfcc15     mfcc16  \\\n",
            "0    -2.508199  ...  3.351594  -7.754051  -3.105744  -2.000808  -2.967053   \n",
            "1     3.816530  ... -2.126826 -10.584426  -2.605693 -11.338287  -1.758550   \n",
            "2   -24.516249  ... -2.256354  13.272095  -4.865770  12.484118  -4.466461   \n",
            "3   -16.991381  ...  3.902887  -2.239980  -3.745878  -3.009543  -0.513194   \n",
            "4   -41.605099  ... -5.633950  10.789930  -5.878231   6.949822 -18.838655   \n",
            "..         ...  ...       ...        ...        ...        ...        ...   \n",
            "129   8.832709  ...  2.298683  -2.077702   4.704892   1.814711   3.613112   \n",
            "130  16.592770  ... -6.389162   7.021423  -2.761451 -19.340149   7.219986   \n",
            "131 -20.974297  ... -4.458465   2.848928 -11.792307   7.006453  -9.080160   \n",
            "132  -9.948197  ... -2.269905  -3.676280  -0.809023  -7.236962   2.130877   \n",
            "133 -31.627464  ... -4.106587   1.120149 -11.142779   8.875122  -2.274678   \n",
            "\n",
            "        mfcc17     mfcc18    mfcc19     mfcc20  fake(0)/real(1)  \n",
            "0    -6.752093  -0.381953 -9.223604   6.556966                1  \n",
            "1   -10.134315  -1.485182 -6.332491  -3.386185                0  \n",
            "2     3.078789   1.599398  0.315203  -3.342583                1  \n",
            "3    -7.980110  -0.782919 -6.861320   1.792280                1  \n",
            "4     2.983628 -11.509598 -4.806178 -11.076943                1  \n",
            "..         ...        ...       ...        ...              ...  \n",
            "129  -1.539815   4.534101 -2.730610   0.830440                1  \n",
            "130  -7.655596  -9.247864 -1.133270  -1.394202                0  \n",
            "131   2.900971  -2.835001 -2.490820  -2.959754                1  \n",
            "132  -8.827484   1.049352 -6.226123  -8.802943                1  \n",
            "133  -3.146388  -3.810700  0.087730  -3.284060                1  \n",
            "\n",
            "[134 rows x 26 columns]\n"
          ]
        }
      ]
    },
    {
      "cell_type": "code",
      "metadata": {
        "colab": {
          "base_uri": "https://localhost:8080/"
        },
        "id": "CTlVr6337_6L",
        "outputId": "042fdcde-78a7-427b-ec2c-4c816f36286c"
      },
      "source": [
        "# Splitting the dataset into training, validation and testing dataset\n",
        "from sklearn.model_selection import train_test_split\n",
        "X = np.array(trainData.iloc[:, :-1], dtype=float)\n",
        "y = np.array(trainData.iloc[:, -1], dtype=float)\n",
        "X_train, X_val, y_train, y_val = train_test_split(X, y, test_size=0.2, random_state=4)\n",
        "#print(y)\n",
        "\n",
        "X_test = np.array(testData.iloc[:, :-1], dtype=float)\n",
        "y_test = np.array(testData.iloc[:, -1], dtype=float)\n",
        "print(\"Y from training data:\", y_train.shape)\n",
        "print(\"Y from validation data:\", y_val.shape)\n",
        "print(\"Y from test data:\", y_test.shape)"
      ],
      "execution_count": null,
      "outputs": [
        {
          "output_type": "stream",
          "name": "stdout",
          "text": [
            "Y from training data: (1380,)\n",
            "Y from validation data: (346,)\n",
            "Y from test data: (134,)\n"
          ]
        }
      ]
    },
    {
      "cell_type": "code",
      "metadata": {
        "colab": {
          "base_uri": "https://localhost:8080/"
        },
        "id": "CvzfOFih8tj7",
        "outputId": "c2157eb8-1217-4535-aa35-1418cffba289"
      },
      "source": [
        "#Normalizing the dataset\n",
        "from sklearn.preprocessing import StandardScaler\n",
        "import numpy as np\n",
        "scaler = StandardScaler()\n",
        "X_train = scaler.fit_transform( X_train )\n",
        "X_val = scaler.transform( X_val )\n",
        "X_test = scaler.transform( X_test )\n",
        "\n",
        "print(\"X from training data\", X_train.shape)\n",
        "print(\"X from validation data\", X_val.shape)\n",
        "print(\"X from test data\", X_test.shape)"
      ],
      "execution_count": null,
      "outputs": [
        {
          "output_type": "stream",
          "name": "stdout",
          "text": [
            "X from training data (1380, 25)\n",
            "X from validation data (346, 25)\n",
            "X from test data (134, 25)\n"
          ]
        }
      ]
    },
    {
      "cell_type": "code",
      "metadata": {
        "colab": {
          "base_uri": "https://localhost:8080/"
        },
        "id": "qOhBIQBJ5JK6",
        "outputId": "03af0b2a-9c8e-4d7f-acbb-1d38be7b398e"
      },
      "source": [
        "#Creating a Model\n",
        "from keras import models\n",
        "from keras import layers\n",
        "import keras\n",
        "from datetime import datetime\n",
        "import tensorflow as tf\n",
        "\n",
        "\n",
        "# model 1\n",
        "model = models.Sequential()\n",
        "model.add(layers.Dense(256, activation='relu', input_shape=(X_train.shape[1],)))\n",
        "model.add(layers.Dropout(0.5))\n",
        "model.add(layers.Dense(128, activation='relu'))\n",
        "model.add(layers.Dropout(0.5))\n",
        "\n",
        "model.add(layers.Dropout(0.5))\n",
        "model.add(layers.Dense(64, activation='relu'))\n",
        "model.add(layers.Dropout(0.5))\n",
        "model.add(layers.Dense(2, activation='softmax'))\n",
        "\n",
        "\n",
        "\n",
        "# Learning Process of a model\n",
        "model.compile(optimizer='adam',\n",
        "              loss='sparse_categorical_crossentropy',\n",
        "              metrics=['accuracy'])\n",
        "\n",
        "model.summary()\n",
        "\n",
        "\n",
        "# Calculate pre-training accuracy \n",
        "score = model.evaluate(X_test, y_test, verbose=1)\n",
        "accuracy = 100*score[1]\n",
        "print(\"Pre-training accuracy: %.4f%%\" % accuracy) \n",
        "\n",
        "\n",
        "\n",
        "start = datetime.now()\n",
        "#training\n",
        "history = model.fit(X_train,\n",
        "                    y_train,\n",
        "                    validation_split=(0.1),\n",
        "                    epochs=135,\n",
        "                    batch_size=128)\n",
        "\n",
        "\n",
        "duration = datetime.now() - start\n",
        "print(\"Training completed in time: \", duration)\n",
        "\n"
      ],
      "execution_count": null,
      "outputs": [
        {
          "output_type": "stream",
          "name": "stdout",
          "text": [
            "Model: \"sequential_6\"\n",
            "_________________________________________________________________\n",
            " Layer (type)                Output Shape              Param #   \n",
            "=================================================================\n",
            " dense_24 (Dense)            (None, 256)               6656      \n",
            "                                                                 \n",
            " dropout_24 (Dropout)        (None, 256)               0         \n",
            "                                                                 \n",
            " dense_25 (Dense)            (None, 128)               32896     \n",
            "                                                                 \n",
            " dropout_25 (Dropout)        (None, 128)               0         \n",
            "                                                                 \n",
            " dropout_26 (Dropout)        (None, 128)               0         \n",
            "                                                                 \n",
            " dense_26 (Dense)            (None, 64)                8256      \n",
            "                                                                 \n",
            " dropout_27 (Dropout)        (None, 64)                0         \n",
            "                                                                 \n",
            " dense_27 (Dense)            (None, 2)                 130       \n",
            "                                                                 \n",
            "=================================================================\n",
            "Total params: 47,938\n",
            "Trainable params: 47,938\n",
            "Non-trainable params: 0\n",
            "_________________________________________________________________\n",
            "5/5 [==============================] - 1s 5ms/step - loss: 0.7043 - accuracy: 0.4851\n",
            "Pre-training accuracy: 48.5075%\n",
            "Epoch 1/135\n",
            "10/10 [==============================] - 1s 25ms/step - loss: 0.7239 - accuracy: 0.6087 - val_loss: 0.4432 - val_accuracy: 0.9203\n",
            "Epoch 2/135\n",
            "10/10 [==============================] - 0s 19ms/step - loss: 0.4888 - accuracy: 0.7850 - val_loss: 0.2944 - val_accuracy: 0.9348\n",
            "Epoch 3/135\n",
            "10/10 [==============================] - 0s 16ms/step - loss: 0.3767 - accuracy: 0.8454 - val_loss: 0.1988 - val_accuracy: 0.9420\n",
            "Epoch 4/135\n",
            "10/10 [==============================] - 0s 20ms/step - loss: 0.2869 - accuracy: 0.8937 - val_loss: 0.1639 - val_accuracy: 0.9420\n",
            "Epoch 5/135\n",
            "10/10 [==============================] - 0s 19ms/step - loss: 0.2572 - accuracy: 0.9122 - val_loss: 0.1501 - val_accuracy: 0.9420\n",
            "Epoch 6/135\n",
            "10/10 [==============================] - 0s 18ms/step - loss: 0.2289 - accuracy: 0.9130 - val_loss: 0.1433 - val_accuracy: 0.9420\n",
            "Epoch 7/135\n",
            "10/10 [==============================] - 0s 26ms/step - loss: 0.1979 - accuracy: 0.9219 - val_loss: 0.1385 - val_accuracy: 0.9420\n",
            "Epoch 8/135\n",
            "10/10 [==============================] - 0s 15ms/step - loss: 0.1999 - accuracy: 0.9267 - val_loss: 0.1341 - val_accuracy: 0.9493\n",
            "Epoch 9/135\n",
            "10/10 [==============================] - 0s 21ms/step - loss: 0.1666 - accuracy: 0.9324 - val_loss: 0.1301 - val_accuracy: 0.9493\n",
            "Epoch 10/135\n",
            "10/10 [==============================] - 0s 17ms/step - loss: 0.1693 - accuracy: 0.9364 - val_loss: 0.1274 - val_accuracy: 0.9420\n",
            "Epoch 11/135\n",
            "10/10 [==============================] - 0s 17ms/step - loss: 0.1597 - accuracy: 0.9388 - val_loss: 0.1232 - val_accuracy: 0.9493\n",
            "Epoch 12/135\n",
            "10/10 [==============================] - 0s 22ms/step - loss: 0.1586 - accuracy: 0.9356 - val_loss: 0.1183 - val_accuracy: 0.9638\n",
            "Epoch 13/135\n",
            "10/10 [==============================] - 0s 15ms/step - loss: 0.1471 - accuracy: 0.9364 - val_loss: 0.1148 - val_accuracy: 0.9565\n",
            "Epoch 14/135\n",
            "10/10 [==============================] - 0s 18ms/step - loss: 0.1374 - accuracy: 0.9469 - val_loss: 0.1113 - val_accuracy: 0.9710\n",
            "Epoch 15/135\n",
            "10/10 [==============================] - 0s 24ms/step - loss: 0.1273 - accuracy: 0.9549 - val_loss: 0.1076 - val_accuracy: 0.9710\n",
            "Epoch 16/135\n",
            "10/10 [==============================] - 0s 20ms/step - loss: 0.1326 - accuracy: 0.9404 - val_loss: 0.1051 - val_accuracy: 0.9710\n",
            "Epoch 17/135\n",
            "10/10 [==============================] - 0s 22ms/step - loss: 0.1331 - accuracy: 0.9477 - val_loss: 0.1014 - val_accuracy: 0.9638\n",
            "Epoch 18/135\n",
            "10/10 [==============================] - 0s 19ms/step - loss: 0.1301 - accuracy: 0.9452 - val_loss: 0.0976 - val_accuracy: 0.9710\n",
            "Epoch 19/135\n",
            "10/10 [==============================] - 0s 20ms/step - loss: 0.1113 - accuracy: 0.9517 - val_loss: 0.0961 - val_accuracy: 0.9710\n",
            "Epoch 20/135\n",
            "10/10 [==============================] - 0s 19ms/step - loss: 0.1173 - accuracy: 0.9501 - val_loss: 0.0927 - val_accuracy: 0.9565\n",
            "Epoch 21/135\n",
            "10/10 [==============================] - 0s 20ms/step - loss: 0.1240 - accuracy: 0.9509 - val_loss: 0.0894 - val_accuracy: 0.9638\n",
            "Epoch 22/135\n",
            "10/10 [==============================] - 0s 16ms/step - loss: 0.1077 - accuracy: 0.9581 - val_loss: 0.0867 - val_accuracy: 0.9710\n",
            "Epoch 23/135\n",
            "10/10 [==============================] - 0s 18ms/step - loss: 0.1120 - accuracy: 0.9605 - val_loss: 0.0865 - val_accuracy: 0.9710\n",
            "Epoch 24/135\n",
            "10/10 [==============================] - 0s 18ms/step - loss: 0.1125 - accuracy: 0.9565 - val_loss: 0.0877 - val_accuracy: 0.9710\n",
            "Epoch 25/135\n",
            "10/10 [==============================] - 0s 16ms/step - loss: 0.1074 - accuracy: 0.9630 - val_loss: 0.0833 - val_accuracy: 0.9710\n",
            "Epoch 26/135\n",
            "10/10 [==============================] - 0s 24ms/step - loss: 0.0942 - accuracy: 0.9670 - val_loss: 0.0794 - val_accuracy: 0.9638\n",
            "Epoch 27/135\n",
            "10/10 [==============================] - 0s 18ms/step - loss: 0.0968 - accuracy: 0.9622 - val_loss: 0.0772 - val_accuracy: 0.9638\n",
            "Epoch 28/135\n",
            "10/10 [==============================] - 0s 16ms/step - loss: 0.0993 - accuracy: 0.9533 - val_loss: 0.0771 - val_accuracy: 0.9783\n",
            "Epoch 29/135\n",
            "10/10 [==============================] - 0s 20ms/step - loss: 0.0885 - accuracy: 0.9638 - val_loss: 0.0766 - val_accuracy: 0.9783\n",
            "Epoch 30/135\n",
            "10/10 [==============================] - 0s 17ms/step - loss: 0.0853 - accuracy: 0.9670 - val_loss: 0.0754 - val_accuracy: 0.9783\n",
            "Epoch 31/135\n",
            "10/10 [==============================] - 0s 20ms/step - loss: 0.0864 - accuracy: 0.9605 - val_loss: 0.0737 - val_accuracy: 0.9783\n",
            "Epoch 32/135\n",
            "10/10 [==============================] - 0s 20ms/step - loss: 0.0831 - accuracy: 0.9638 - val_loss: 0.0723 - val_accuracy: 0.9783\n",
            "Epoch 33/135\n",
            "10/10 [==============================] - 0s 17ms/step - loss: 0.0716 - accuracy: 0.9734 - val_loss: 0.0706 - val_accuracy: 0.9710\n",
            "Epoch 34/135\n",
            "10/10 [==============================] - 0s 24ms/step - loss: 0.0802 - accuracy: 0.9678 - val_loss: 0.0699 - val_accuracy: 0.9855\n",
            "Epoch 35/135\n",
            "10/10 [==============================] - 0s 26ms/step - loss: 0.0816 - accuracy: 0.9662 - val_loss: 0.0679 - val_accuracy: 0.9855\n",
            "Epoch 36/135\n",
            "10/10 [==============================] - 0s 17ms/step - loss: 0.0930 - accuracy: 0.9662 - val_loss: 0.0682 - val_accuracy: 0.9783\n",
            "Epoch 37/135\n",
            "10/10 [==============================] - 0s 31ms/step - loss: 0.0788 - accuracy: 0.9686 - val_loss: 0.0681 - val_accuracy: 0.9855\n",
            "Epoch 38/135\n",
            "10/10 [==============================] - 0s 35ms/step - loss: 0.0656 - accuracy: 0.9750 - val_loss: 0.0712 - val_accuracy: 0.9855\n",
            "Epoch 39/135\n",
            "10/10 [==============================] - 0s 23ms/step - loss: 0.0793 - accuracy: 0.9654 - val_loss: 0.0738 - val_accuracy: 0.9783\n",
            "Epoch 40/135\n",
            "10/10 [==============================] - 0s 23ms/step - loss: 0.0748 - accuracy: 0.9726 - val_loss: 0.0745 - val_accuracy: 0.9783\n",
            "Epoch 41/135\n",
            "10/10 [==============================] - 0s 22ms/step - loss: 0.0743 - accuracy: 0.9710 - val_loss: 0.0749 - val_accuracy: 0.9855\n",
            "Epoch 42/135\n",
            "10/10 [==============================] - 0s 17ms/step - loss: 0.0690 - accuracy: 0.9750 - val_loss: 0.0718 - val_accuracy: 0.9855\n",
            "Epoch 43/135\n",
            "10/10 [==============================] - 0s 17ms/step - loss: 0.0717 - accuracy: 0.9758 - val_loss: 0.0684 - val_accuracy: 0.9855\n",
            "Epoch 44/135\n",
            "10/10 [==============================] - 0s 21ms/step - loss: 0.0714 - accuracy: 0.9710 - val_loss: 0.0683 - val_accuracy: 0.9783\n",
            "Epoch 45/135\n",
            "10/10 [==============================] - 0s 16ms/step - loss: 0.0622 - accuracy: 0.9718 - val_loss: 0.0717 - val_accuracy: 0.9855\n",
            "Epoch 46/135\n",
            "10/10 [==============================] - 0s 17ms/step - loss: 0.0664 - accuracy: 0.9742 - val_loss: 0.0743 - val_accuracy: 0.9783\n",
            "Epoch 47/135\n",
            "10/10 [==============================] - 0s 13ms/step - loss: 0.0541 - accuracy: 0.9791 - val_loss: 0.0746 - val_accuracy: 0.9783\n",
            "Epoch 48/135\n",
            "10/10 [==============================] - 0s 18ms/step - loss: 0.0585 - accuracy: 0.9767 - val_loss: 0.0716 - val_accuracy: 0.9783\n",
            "Epoch 49/135\n",
            "10/10 [==============================] - 0s 16ms/step - loss: 0.0516 - accuracy: 0.9775 - val_loss: 0.0690 - val_accuracy: 0.9855\n",
            "Epoch 50/135\n",
            "10/10 [==============================] - 0s 19ms/step - loss: 0.0531 - accuracy: 0.9775 - val_loss: 0.0681 - val_accuracy: 0.9855\n",
            "Epoch 51/135\n",
            "10/10 [==============================] - 0s 16ms/step - loss: 0.0508 - accuracy: 0.9823 - val_loss: 0.0680 - val_accuracy: 0.9855\n",
            "Epoch 52/135\n",
            "10/10 [==============================] - 0s 17ms/step - loss: 0.0493 - accuracy: 0.9815 - val_loss: 0.0701 - val_accuracy: 0.9783\n",
            "Epoch 53/135\n",
            "10/10 [==============================] - 0s 21ms/step - loss: 0.0521 - accuracy: 0.9815 - val_loss: 0.0707 - val_accuracy: 0.9783\n",
            "Epoch 54/135\n",
            "10/10 [==============================] - 0s 21ms/step - loss: 0.0547 - accuracy: 0.9799 - val_loss: 0.0678 - val_accuracy: 0.9783\n",
            "Epoch 55/135\n",
            "10/10 [==============================] - 0s 16ms/step - loss: 0.0526 - accuracy: 0.9807 - val_loss: 0.0659 - val_accuracy: 0.9855\n",
            "Epoch 56/135\n",
            "10/10 [==============================] - 0s 20ms/step - loss: 0.0548 - accuracy: 0.9742 - val_loss: 0.0678 - val_accuracy: 0.9783\n",
            "Epoch 57/135\n",
            "10/10 [==============================] - 0s 25ms/step - loss: 0.0604 - accuracy: 0.9783 - val_loss: 0.0750 - val_accuracy: 0.9638\n",
            "Epoch 58/135\n",
            "10/10 [==============================] - 0s 24ms/step - loss: 0.0539 - accuracy: 0.9839 - val_loss: 0.0789 - val_accuracy: 0.9710\n",
            "Epoch 59/135\n",
            "10/10 [==============================] - 0s 26ms/step - loss: 0.0485 - accuracy: 0.9871 - val_loss: 0.0827 - val_accuracy: 0.9638\n",
            "Epoch 60/135\n",
            "10/10 [==============================] - 0s 18ms/step - loss: 0.0422 - accuracy: 0.9855 - val_loss: 0.0816 - val_accuracy: 0.9638\n",
            "Epoch 61/135\n",
            "10/10 [==============================] - 0s 20ms/step - loss: 0.0475 - accuracy: 0.9847 - val_loss: 0.0818 - val_accuracy: 0.9638\n",
            "Epoch 62/135\n",
            "10/10 [==============================] - 0s 9ms/step - loss: 0.0436 - accuracy: 0.9871 - val_loss: 0.0825 - val_accuracy: 0.9710\n",
            "Epoch 63/135\n",
            "10/10 [==============================] - 0s 13ms/step - loss: 0.0498 - accuracy: 0.9775 - val_loss: 0.0829 - val_accuracy: 0.9638\n",
            "Epoch 64/135\n",
            "10/10 [==============================] - 0s 18ms/step - loss: 0.0437 - accuracy: 0.9895 - val_loss: 0.0873 - val_accuracy: 0.9638\n",
            "Epoch 65/135\n",
            "10/10 [==============================] - 0s 17ms/step - loss: 0.0510 - accuracy: 0.9791 - val_loss: 0.0979 - val_accuracy: 0.9710\n",
            "Epoch 66/135\n",
            "10/10 [==============================] - 0s 18ms/step - loss: 0.0457 - accuracy: 0.9855 - val_loss: 0.1024 - val_accuracy: 0.9710\n",
            "Epoch 67/135\n",
            "10/10 [==============================] - 0s 19ms/step - loss: 0.0406 - accuracy: 0.9895 - val_loss: 0.1021 - val_accuracy: 0.9638\n",
            "Epoch 68/135\n",
            "10/10 [==============================] - 0s 14ms/step - loss: 0.0425 - accuracy: 0.9839 - val_loss: 0.1009 - val_accuracy: 0.9710\n",
            "Epoch 69/135\n",
            "10/10 [==============================] - 0s 15ms/step - loss: 0.0383 - accuracy: 0.9855 - val_loss: 0.1019 - val_accuracy: 0.9710\n",
            "Epoch 70/135\n",
            "10/10 [==============================] - 0s 15ms/step - loss: 0.0365 - accuracy: 0.9847 - val_loss: 0.0979 - val_accuracy: 0.9710\n",
            "Epoch 71/135\n",
            "10/10 [==============================] - 0s 15ms/step - loss: 0.0411 - accuracy: 0.9863 - val_loss: 0.0946 - val_accuracy: 0.9710\n",
            "Epoch 72/135\n",
            "10/10 [==============================] - 0s 17ms/step - loss: 0.0447 - accuracy: 0.9871 - val_loss: 0.1017 - val_accuracy: 0.9710\n",
            "Epoch 73/135\n",
            "10/10 [==============================] - 0s 19ms/step - loss: 0.0309 - accuracy: 0.9863 - val_loss: 0.1114 - val_accuracy: 0.9710\n",
            "Epoch 74/135\n",
            "10/10 [==============================] - 0s 17ms/step - loss: 0.0326 - accuracy: 0.9879 - val_loss: 0.1131 - val_accuracy: 0.9710\n",
            "Epoch 75/135\n",
            "10/10 [==============================] - 0s 16ms/step - loss: 0.0328 - accuracy: 0.9863 - val_loss: 0.1145 - val_accuracy: 0.9638\n",
            "Epoch 76/135\n",
            "10/10 [==============================] - 0s 18ms/step - loss: 0.0394 - accuracy: 0.9879 - val_loss: 0.1070 - val_accuracy: 0.9710\n",
            "Epoch 77/135\n",
            "10/10 [==============================] - 0s 22ms/step - loss: 0.0371 - accuracy: 0.9903 - val_loss: 0.1055 - val_accuracy: 0.9710\n",
            "Epoch 78/135\n",
            "10/10 [==============================] - 0s 14ms/step - loss: 0.0297 - accuracy: 0.9887 - val_loss: 0.1119 - val_accuracy: 0.9638\n",
            "Epoch 79/135\n",
            "10/10 [==============================] - 0s 16ms/step - loss: 0.0207 - accuracy: 0.9960 - val_loss: 0.1168 - val_accuracy: 0.9710\n",
            "Epoch 80/135\n",
            "10/10 [==============================] - 0s 16ms/step - loss: 0.0306 - accuracy: 0.9911 - val_loss: 0.1189 - val_accuracy: 0.9638\n",
            "Epoch 81/135\n",
            "10/10 [==============================] - 0s 14ms/step - loss: 0.0318 - accuracy: 0.9887 - val_loss: 0.1247 - val_accuracy: 0.9565\n",
            "Epoch 82/135\n",
            "10/10 [==============================] - 0s 10ms/step - loss: 0.0219 - accuracy: 0.9928 - val_loss: 0.1246 - val_accuracy: 0.9565\n",
            "Epoch 83/135\n",
            "10/10 [==============================] - 0s 10ms/step - loss: 0.0251 - accuracy: 0.9895 - val_loss: 0.1233 - val_accuracy: 0.9710\n",
            "Epoch 84/135\n",
            "10/10 [==============================] - 0s 9ms/step - loss: 0.0402 - accuracy: 0.9887 - val_loss: 0.1237 - val_accuracy: 0.9710\n",
            "Epoch 85/135\n",
            "10/10 [==============================] - 0s 9ms/step - loss: 0.0329 - accuracy: 0.9895 - val_loss: 0.1209 - val_accuracy: 0.9638\n",
            "Epoch 86/135\n",
            "10/10 [==============================] - 0s 11ms/step - loss: 0.0238 - accuracy: 0.9928 - val_loss: 0.1208 - val_accuracy: 0.9638\n",
            "Epoch 87/135\n",
            "10/10 [==============================] - 0s 9ms/step - loss: 0.0291 - accuracy: 0.9911 - val_loss: 0.1273 - val_accuracy: 0.9638\n",
            "Epoch 88/135\n",
            "10/10 [==============================] - 0s 9ms/step - loss: 0.0313 - accuracy: 0.9919 - val_loss: 0.1335 - val_accuracy: 0.9638\n",
            "Epoch 89/135\n",
            "10/10 [==============================] - 0s 9ms/step - loss: 0.0290 - accuracy: 0.9895 - val_loss: 0.1334 - val_accuracy: 0.9710\n",
            "Epoch 90/135\n",
            "10/10 [==============================] - 0s 10ms/step - loss: 0.0318 - accuracy: 0.9887 - val_loss: 0.1280 - val_accuracy: 0.9710\n",
            "Epoch 91/135\n",
            "10/10 [==============================] - 0s 10ms/step - loss: 0.0187 - accuracy: 0.9919 - val_loss: 0.1270 - val_accuracy: 0.9710\n",
            "Epoch 92/135\n",
            "10/10 [==============================] - 0s 11ms/step - loss: 0.0284 - accuracy: 0.9895 - val_loss: 0.1280 - val_accuracy: 0.9638\n",
            "Epoch 93/135\n",
            "10/10 [==============================] - 0s 9ms/step - loss: 0.0327 - accuracy: 0.9903 - val_loss: 0.1310 - val_accuracy: 0.9638\n",
            "Epoch 94/135\n",
            "10/10 [==============================] - 0s 9ms/step - loss: 0.0230 - accuracy: 0.9911 - val_loss: 0.1353 - val_accuracy: 0.9638\n",
            "Epoch 95/135\n",
            "10/10 [==============================] - 0s 9ms/step - loss: 0.0255 - accuracy: 0.9928 - val_loss: 0.1399 - val_accuracy: 0.9638\n",
            "Epoch 96/135\n",
            "10/10 [==============================] - 0s 10ms/step - loss: 0.0240 - accuracy: 0.9911 - val_loss: 0.1360 - val_accuracy: 0.9710\n",
            "Epoch 97/135\n",
            "10/10 [==============================] - 0s 9ms/step - loss: 0.0349 - accuracy: 0.9887 - val_loss: 0.1500 - val_accuracy: 0.9710\n",
            "Epoch 98/135\n",
            "10/10 [==============================] - 0s 9ms/step - loss: 0.0223 - accuracy: 0.9919 - val_loss: 0.1488 - val_accuracy: 0.9710\n",
            "Epoch 99/135\n",
            "10/10 [==============================] - 0s 9ms/step - loss: 0.0212 - accuracy: 0.9936 - val_loss: 0.1516 - val_accuracy: 0.9710\n",
            "Epoch 100/135\n",
            "10/10 [==============================] - 0s 11ms/step - loss: 0.0266 - accuracy: 0.9879 - val_loss: 0.1524 - val_accuracy: 0.9710\n",
            "Epoch 101/135\n",
            "10/10 [==============================] - 0s 10ms/step - loss: 0.0250 - accuracy: 0.9944 - val_loss: 0.1423 - val_accuracy: 0.9710\n",
            "Epoch 102/135\n",
            "10/10 [==============================] - 0s 12ms/step - loss: 0.0247 - accuracy: 0.9936 - val_loss: 0.1478 - val_accuracy: 0.9638\n",
            "Epoch 103/135\n",
            "10/10 [==============================] - 0s 12ms/step - loss: 0.0196 - accuracy: 0.9960 - val_loss: 0.1498 - val_accuracy: 0.9710\n",
            "Epoch 104/135\n",
            "10/10 [==============================] - 0s 9ms/step - loss: 0.0192 - accuracy: 0.9928 - val_loss: 0.1456 - val_accuracy: 0.9710\n",
            "Epoch 105/135\n",
            "10/10 [==============================] - 0s 12ms/step - loss: 0.0231 - accuracy: 0.9919 - val_loss: 0.1429 - val_accuracy: 0.9710\n",
            "Epoch 106/135\n",
            "10/10 [==============================] - 0s 9ms/step - loss: 0.0168 - accuracy: 0.9928 - val_loss: 0.1468 - val_accuracy: 0.9638\n",
            "Epoch 107/135\n",
            "10/10 [==============================] - 0s 9ms/step - loss: 0.0228 - accuracy: 0.9911 - val_loss: 0.1430 - val_accuracy: 0.9638\n",
            "Epoch 108/135\n",
            "10/10 [==============================] - 0s 10ms/step - loss: 0.0193 - accuracy: 0.9919 - val_loss: 0.1380 - val_accuracy: 0.9710\n",
            "Epoch 109/135\n",
            "10/10 [==============================] - 0s 9ms/step - loss: 0.0275 - accuracy: 0.9903 - val_loss: 0.1483 - val_accuracy: 0.9638\n",
            "Epoch 110/135\n",
            "10/10 [==============================] - 0s 12ms/step - loss: 0.0135 - accuracy: 0.9960 - val_loss: 0.1516 - val_accuracy: 0.9638\n",
            "Epoch 111/135\n",
            "10/10 [==============================] - 0s 9ms/step - loss: 0.0213 - accuracy: 0.9944 - val_loss: 0.1680 - val_accuracy: 0.9565\n",
            "Epoch 112/135\n",
            "10/10 [==============================] - 0s 9ms/step - loss: 0.0132 - accuracy: 0.9960 - val_loss: 0.1780 - val_accuracy: 0.9565\n",
            "Epoch 113/135\n",
            "10/10 [==============================] - 0s 9ms/step - loss: 0.0150 - accuracy: 0.9968 - val_loss: 0.1807 - val_accuracy: 0.9638\n",
            "Epoch 114/135\n",
            "10/10 [==============================] - 0s 30ms/step - loss: 0.0144 - accuracy: 0.9976 - val_loss: 0.1846 - val_accuracy: 0.9638\n",
            "Epoch 115/135\n",
            "10/10 [==============================] - 0s 26ms/step - loss: 0.0150 - accuracy: 0.9952 - val_loss: 0.1877 - val_accuracy: 0.9638\n",
            "Epoch 116/135\n",
            "10/10 [==============================] - 0s 30ms/step - loss: 0.0112 - accuracy: 0.9968 - val_loss: 0.1838 - val_accuracy: 0.9638\n",
            "Epoch 117/135\n",
            "10/10 [==============================] - 0s 29ms/step - loss: 0.0088 - accuracy: 0.9984 - val_loss: 0.1797 - val_accuracy: 0.9710\n",
            "Epoch 118/135\n",
            "10/10 [==============================] - 0s 22ms/step - loss: 0.0168 - accuracy: 0.9936 - val_loss: 0.1776 - val_accuracy: 0.9710\n",
            "Epoch 119/135\n",
            "10/10 [==============================] - 0s 9ms/step - loss: 0.0132 - accuracy: 0.9944 - val_loss: 0.1816 - val_accuracy: 0.9710\n",
            "Epoch 120/135\n",
            "10/10 [==============================] - 0s 9ms/step - loss: 0.0183 - accuracy: 0.9944 - val_loss: 0.1665 - val_accuracy: 0.9710\n",
            "Epoch 121/135\n",
            "10/10 [==============================] - 0s 10ms/step - loss: 0.0170 - accuracy: 0.9919 - val_loss: 0.1706 - val_accuracy: 0.9638\n",
            "Epoch 122/135\n",
            "10/10 [==============================] - 0s 10ms/step - loss: 0.0102 - accuracy: 0.9976 - val_loss: 0.1876 - val_accuracy: 0.9638\n",
            "Epoch 123/135\n",
            "10/10 [==============================] - 0s 9ms/step - loss: 0.0072 - accuracy: 0.9968 - val_loss: 0.1952 - val_accuracy: 0.9565\n",
            "Epoch 124/135\n",
            "10/10 [==============================] - 0s 9ms/step - loss: 0.0176 - accuracy: 0.9944 - val_loss: 0.1898 - val_accuracy: 0.9565\n",
            "Epoch 125/135\n",
            "10/10 [==============================] - 0s 10ms/step - loss: 0.0087 - accuracy: 0.9968 - val_loss: 0.1877 - val_accuracy: 0.9638\n",
            "Epoch 126/135\n",
            "10/10 [==============================] - 0s 10ms/step - loss: 0.0219 - accuracy: 0.9944 - val_loss: 0.1834 - val_accuracy: 0.9638\n",
            "Epoch 127/135\n",
            "10/10 [==============================] - 0s 10ms/step - loss: 0.0106 - accuracy: 0.9960 - val_loss: 0.1708 - val_accuracy: 0.9710\n",
            "Epoch 128/135\n",
            "10/10 [==============================] - 0s 9ms/step - loss: 0.0095 - accuracy: 0.9968 - val_loss: 0.1744 - val_accuracy: 0.9710\n",
            "Epoch 129/135\n",
            "10/10 [==============================] - 0s 9ms/step - loss: 0.0128 - accuracy: 0.9960 - val_loss: 0.1808 - val_accuracy: 0.9710\n",
            "Epoch 130/135\n",
            "10/10 [==============================] - 0s 11ms/step - loss: 0.0241 - accuracy: 0.9952 - val_loss: 0.1851 - val_accuracy: 0.9638\n",
            "Epoch 131/135\n",
            "10/10 [==============================] - 0s 10ms/step - loss: 0.0079 - accuracy: 0.9976 - val_loss: 0.1865 - val_accuracy: 0.9638\n",
            "Epoch 132/135\n",
            "10/10 [==============================] - 0s 12ms/step - loss: 0.0270 - accuracy: 0.9928 - val_loss: 0.1834 - val_accuracy: 0.9710\n",
            "Epoch 133/135\n",
            "10/10 [==============================] - 0s 9ms/step - loss: 0.0209 - accuracy: 0.9903 - val_loss: 0.1862 - val_accuracy: 0.9710\n",
            "Epoch 134/135\n",
            "10/10 [==============================] - 0s 10ms/step - loss: 0.0138 - accuracy: 0.9944 - val_loss: 0.1927 - val_accuracy: 0.9710\n",
            "Epoch 135/135\n",
            "10/10 [==============================] - 0s 8ms/step - loss: 0.0100 - accuracy: 0.9960 - val_loss: 0.1974 - val_accuracy: 0.9710\n",
            "Training completed in time:  0:00:42.177760\n"
          ]
        }
      ]
    },
    {
      "cell_type": "code",
      "metadata": {
        "id": "y_QJTxlgesf7",
        "colab": {
          "base_uri": "https://localhost:8080/"
        },
        "outputId": "10eef778-1f0c-4601-9610-509c94022ed4"
      },
      "source": [
        "score = model.evaluate(X_train, y_train, verbose=0)\n",
        "print(\"Training Accuracy: \", score[1])\n",
        "\n",
        "score = model.evaluate(X_test, y_test, verbose=0)\n",
        "print(\"Testing Accuracy: \", score[1])"
      ],
      "execution_count": null,
      "outputs": [
        {
          "output_type": "stream",
          "name": "stdout",
          "text": [
            "Training Accuracy:  0.9963768124580383\n",
            "Testing Accuracy:  0.9552238583564758\n"
          ]
        }
      ]
    },
    {
      "cell_type": "code",
      "metadata": {
        "colab": {
          "base_uri": "https://localhost:8080/",
          "height": 265
        },
        "id": "08PIjyCJ5PhT",
        "outputId": "1176471c-2149-4c81-a93a-5ed8e90ef0d7"
      },
      "source": [
        "# plot training history\n",
        "from matplotlib import pyplot\n",
        "pyplot.plot(history.history['loss'], label='train')\n",
        "pyplot.plot(history.history['val_loss'], label='val')\n",
        "pyplot.legend()\n",
        "pyplot.show()"
      ],
      "execution_count": null,
      "outputs": [
        {
          "output_type": "display_data",
          "data": {
            "text/plain": [
              "<Figure size 432x288 with 1 Axes>"
            ],
            "image/png": "[encoded data removed]"
          },
          "metadata": {
            "needs_background": "light"
          }
        }
      ]
    },
    {
      "cell_type": "code",
      "metadata": {
        "colab": {
          "base_uri": "https://localhost:8080/",
          "height": 282
        },
        "id": "mH3UtDMarxGB",
        "outputId": "3e6f40b8-cab7-4d9a-8c8f-447ce346778e"
      },
      "source": [
        "plt.plot(history.history['accuracy'], label='train acc')\n",
        "plt.plot(history.history['val_accuracy'], label='val acc')\n",
        "plt.legend()\n",
        "plt.show()\n",
        "plt.savefig('AccVal_acc')"
      ],
      "execution_count": null,
      "outputs": [
        {
          "output_type": "display_data",
          "data": {
            "text/plain": [
              "<Figure size 432x288 with 1 Axes>"
            ],
            "image/png": "[encoded data removed]"
          },
          "metadata": {
            "needs_background": "light"
          }
        },
        {
          "output_type": "display_data",
          "data": {
            "text/plain": [
              "<Figure size 432x288 with 0 Axes>"
            ]
          },
          "metadata": {}
        }
      ]
    },
    {
      "cell_type": "code",
      "metadata": {
        "id": "U_pvhH976RCa"
      },
      "source": [
        "def getSound(sound):\n",
        "    sound = str(sound)\n",
        "    if sound == \"0\":\n",
        "        return \"fake\"\n",
        "    else: \n",
        "        return \"real\"\n",
        "        \n",
        "def printPrediction(X_data, y_data, printDigit):\n",
        "    print('\\n# Generate predictions')\n",
        "    for i in range(len(y_data)):\n",
        "        prediction = getSound(model.predict(X_data[i:i+1])[0])\n",
        "        sound = getSound(y_data[i])\n",
        "        if printDigit == True:\n",
        "            print(\"Number={0:d}, y={1:10s}- prediction={2:10s}- match={3}\".format(i, sound, prediction, sound==prediction))\n",
        "        else:\n",
        "            print(\"y={0:10s}- prediction={1:10s}- match={2}\".format(sound, prediction, sound==prediction))\n",
        "            "
      ],
      "execution_count": null,
      "outputs": []
    },
    {
      "cell_type": "code",
      "metadata": {
        "id": "7vh39xcEymKn"
      },
      "source": [
        "import numpy as np\n",
        "from keras import backend as K\n",
        "from keras.models import Sequential\n",
        "from keras.layers.core import Dense, Dropout, Activation, Flatten\n",
        "from keras.layers.convolutional import Convolution2D, MaxPooling2D\n",
        "from keras.preprocessing.image import ImageDataGenerator\n",
        "from sklearn.metrics import classification_report, confusion_matrix\n",
        "import seaborn as sns\n",
        "def report(X_data, y_data):\n",
        "    #Confution Matrix and Classification Report\n",
        "    Y_pred = np.argmax(model.predict(X_data), axis=-1)\n",
        "    y_test_num = y_data.astype(np.int64)\n",
        "    conf_mt = confusion_matrix(y_test_num, Y_pred)\n",
        "    ax = sns.heatmap(conf_mt, annot=True, cmap='Blues')\n",
        "\n",
        "    ax.set_title('Seaborn Confusion Matrix with labels\\n\\n');\n",
        "    ax.set_xlabel('\\nPredicted Values')\n",
        "    ax.set_ylabel('Actual Values ');\n",
        "\n",
        "## Ticket labels - List must be in alphabetical order\n",
        "    ax.xaxis.set_ticklabels(['False','True'])\n",
        "    ax.yaxis.set_ticklabels(['False','True'])\n",
        "\n",
        "## Display the visualization of the Confusion Matrix.\n",
        "    plt.show()\n",
        "    print('\\nClassification Report')\n",
        "    target_names = [\"real\", \"fake\"]\n",
        "    print(classification_report(y_test_num, Y_pred))"
      ],
      "execution_count": null,
      "outputs": []
    },
    {
      "cell_type": "code",
      "metadata": {
        "colab": {
          "base_uri": "https://localhost:8080/"
        },
        "id": "zzUGpuFX0JC4",
        "outputId": "1b7a347b-d11a-4d38-cb77-783ca41d92e9"
      },
      "source": [
        "print('\\n# TEST DATA #\\n')\n",
        "score = model.evaluate(X_test, y_test)\n",
        "print(\"%s: %.2f%%\" % (model.metrics_names[1], score[1]*100))\n",
        "\n",
        "# Prediction\n",
        "printPrediction(X_test[0:10], y_test[0:10],False)"
      ],
      "execution_count": null,
      "outputs": [
        {
          "output_type": "stream",
          "name": "stdout",
          "text": [
            "\n",
            "# TEST DATA #\n",
            "\n",
            "5/5 [==============================] - 0s 3ms/step - loss: 0.8085 - accuracy: 0.9552\n",
            "accuracy: 95.52%\n",
            "\n",
            "# Generate predictions\n",
            "y=real      - prediction=real      - match=True\n",
            "y=real      - prediction=real      - match=True\n",
            "y=real      - prediction=real      - match=True\n",
            "y=real      - prediction=real      - match=True\n",
            "y=real      - prediction=real      - match=True\n",
            "y=real      - prediction=real      - match=True\n",
            "y=real      - prediction=real      - match=True\n",
            "y=real      - prediction=real      - match=True\n",
            "y=real      - prediction=real      - match=True\n",
            "y=real      - prediction=real      - match=True\n"
          ]
        }
      ]
    },
    {
      "cell_type": "code",
      "metadata": {
        "colab": {
          "base_uri": "https://localhost:8080/"
        },
        "id": "WuNDaQsh4w8q",
        "outputId": "f7cf01cb-d8d8-4936-db54-8d7b2073d533"
      },
      "source": [
        "from sklearn.ensemble import RandomForestClassifier\n",
        "regressor=RandomForestClassifier(n_estimators=20,random_state=0)\n",
        "regressor.fit(X_train,y_train)\n",
        "y_pred=regressor.predict(X_test)\n",
        "print(y_pred)"
      ],
      "execution_count": null,
      "outputs": [
        {
          "output_type": "stream",
          "name": "stdout",
          "text": [
            "[0. 0. 1. 0. 1. 0. 1. 1. 0. 1. 0. 1. 1. 1. 0. 0. 0. 0. 0. 0. 0. 0. 0. 1.\n",
            " 0. 1. 1. 0. 0. 0. 0. 1. 0. 0. 0. 1. 1. 0. 1. 1. 0. 1. 1. 0. 0. 1. 1. 1.\n",
            " 0. 0. 1. 0. 0. 0. 0. 0. 1. 0. 0. 1. 0. 1. 1. 1. 1. 0. 1. 1. 0. 1. 0. 1.\n",
            " 0. 1. 0. 0. 1. 0. 1. 0. 1. 0. 0. 0. 0. 0. 1. 0. 1. 1. 0. 0. 1. 0. 0. 0.\n",
            " 0. 1. 0. 1. 1. 0. 1. 0. 0. 0. 0. 1. 1. 0. 1. 0. 1. 1. 0. 1. 0. 0. 0. 1.\n",
            " 0. 1. 0. 0. 1. 1. 1. 1. 1. 0. 0. 1. 0. 1.]\n"
          ]
        }
      ]
    },
    {
      "cell_type": "code",
      "metadata": {
        "colab": {
          "base_uri": "https://localhost:8080/",
          "height": 563
        },
        "id": "qmJS6o0S_Liu",
        "outputId": "9ebd5ff8-bd70-4016-c4e2-e300485fd149"
      },
      "source": [
        "print(\"Classification Report for Test Data\\n\")\n",
        "report(X_test, y_test)"
      ],
      "execution_count": null,
      "outputs": [
        {
          "output_type": "stream",
          "name": "stdout",
          "text": [
            "Classification Report for Test Data\n",
            "\n"
          ]
        },
        {
          "output_type": "display_data",
          "data": {
            "text/plain": [
              "<Figure size 432x288 with 2 Axes>"
            ],
            "image/png": "[encoded data removed]"
          },
          "metadata": {
            "needs_background": "light"
          }
        },
        {
          "output_type": "stream",
          "name": "stdout",
          "text": [
            "\n",
            "Classification Report\n",
            "              precision    recall  f1-score   support\n",
            "\n",
            "           0       0.91      1.00      0.95        60\n",
            "           1       1.00      0.92      0.96        74\n",
            "\n",
            "    accuracy                           0.96       134\n",
            "   macro avg       0.95      0.96      0.96       134\n",
            "weighted avg       0.96      0.96      0.96       134\n",
            "\n"
          ]
        }
      ]
    },
    {
      "cell_type": "code",
      "metadata": {
        "colab": {
          "base_uri": "https://localhost:8080/",
          "height": 563
        },
        "id": "QKEfZTJ7pfWA",
        "outputId": "ce3410d8-f94b-44a7-f89b-8e65d76fa525"
      },
      "source": [
        "print(\"Classification Report for Train Data\\n\")\n",
        "report(X_train, y_train)"
      ],
      "execution_count": null,
      "outputs": [
        {
          "output_type": "stream",
          "name": "stdout",
          "text": [
            "Classification Report for Train Data\n",
            "\n"
          ]
        },
        {
          "output_type": "display_data",
          "data": {
            "text/plain": [
              "<Figure size 432x288 with 2 Axes>"
            ],
            "image/png": "[encoded data removed]"
          },
          "metadata": {
            "needs_background": "light"
          }
        },
        {
          "output_type": "stream",
          "name": "stdout",
          "text": [
            "\n",
            "Classification Report\n",
            "              precision    recall  f1-score   support\n",
            "\n",
            "           0       1.00      1.00      1.00       689\n",
            "           1       1.00      1.00      1.00       691\n",
            "\n",
            "    accuracy                           1.00      1380\n",
            "   macro avg       1.00      1.00      1.00      1380\n",
            "weighted avg       1.00      1.00      1.00      1380\n",
            "\n"
          ]
        }
      ]
    },
    {
      "cell_type": "code",
      "metadata": {
        "colab": {
          "base_uri": "https://localhost:8080/",
          "height": 296
        },
        "id": "d4vppDqUeodE",
        "outputId": "6512f168-98c6-46b9-a5ac-577c03829ee9"
      },
      "source": [
        "from sklearn.datasets import make_classification\n",
        "from sklearn.linear_model import LogisticRegression\n",
        "from sklearn.model_selection import train_test_split\n",
        "from sklearn.metrics import roc_curve\n",
        "from matplotlib import pyplot\n",
        "\n",
        "# predict probabilities\n",
        "yhat = model.predict(X_test)\n",
        "# retrieve just the probabilities for the positive class\n",
        "pos_probs = yhat[:, 1]\n",
        "# plot no skill roc curve\n",
        "pyplot.plot([0, 1], [0, 1], linestyle='--')\n",
        "# calculate roc curve for model\n",
        "fpr, tpr, _ = roc_curve(y_test, pos_probs)\n",
        "# plot model roc curve\n",
        "pyplot.plot(fpr, tpr, marker='.')\n",
        "# axis labels\n",
        "pyplot.xlabel('False Positive Rate')\n",
        "pyplot.ylabel('True Positive Rate')\n",
        "# show the legend\n",
        "pyplot.legend()\n",
        "# show the plot\n",
        "pyplot.show()"
      ],
      "execution_count": null,
      "outputs": [
        {
          "output_type": "stream",
          "name": "stderr",
          "text": [
            "WARNING:matplotlib.legend:No handles with labels found to put in legend.\n"
          ]
        },
        {
          "output_type": "display_data",
          "data": {
            "text/plain": [
              "<Figure size 432x288 with 1 Axes>"
            ],
            "image/png": "[encoded data removed]"
          },
          "metadata": {
            "needs_background": "light"
          }
        }
      ]
    },
    {
      "cell_type": "code",
      "metadata": {
        "colab": {
          "base_uri": "https://localhost:8080/"
        },
        "id": "aA1TBd0ei02t",
        "outputId": "f6721281-8ff9-427e-b919-fa69bc124632"
      },
      "source": [
        "from sklearn.datasets import make_classification\n",
        "from sklearn.dummy import DummyClassifier\n",
        "from sklearn.linear_model import LogisticRegression\n",
        "from sklearn.model_selection import train_test_split\n",
        "from sklearn.metrics import roc_auc_score\n",
        "# calculate roc auc\n",
        "roc_auc = roc_auc_score(y_test, pos_probs)\n",
        "print('No Skill ROC AUC %.3f' % roc_auc)\n",
        "# skilled model\n",
        "model = LogisticRegression(solver='lbfgs')\n",
        "model.fit(X_train, y_train)\n",
        "yhat = model.predict_proba(X_test)\n",
        "pos_probs = yhat[:, 1]\n",
        "# calculate roc auc\n",
        "roc_auc = roc_auc_score(y_test, pos_probs)\n",
        "print('Logistic ROC AUC %.3f' % roc_auc)"
      ],
      "execution_count": null,
      "outputs": [
        {
          "output_type": "stream",
          "name": "stdout",
          "text": [
            "No Skill ROC AUC 0.969\n",
            "Logistic ROC AUC 0.958\n"
          ]
        }
      ]
    },
    {
      "cell_type": "code",
      "metadata": {
        "colab": {
          "base_uri": "https://localhost:8080/"
        },
        "id": "jsT5Q735DTDe",
        "outputId": "a0baaf12-1b62-484c-f9bf-b26fa445466b"
      },
      "source": [
        "yh=history.params\n",
        "print(yh)"
      ],
      "execution_count": null,
      "outputs": [
        {
          "output_type": "stream",
          "name": "stdout",
          "text": [
            "{'verbose': 1, 'epochs': 120, 'steps': 13}\n"
          ]
        }
      ]
    },
    {
      "cell_type": "code",
      "metadata": {
        "colab": {
          "base_uri": "https://localhost:8080/"
        },
        "id": "OMy4hOkEFcN0",
        "outputId": "6fbdf676-e819-42b0-ddaf-8869536e8559"
      },
      "source": [
        "yh=history.history\n",
        "print(yh)"
      ],
      "execution_count": null,
      "outputs": [
        {
          "output_type": "stream",
          "name": "stdout",
          "text": [
            "{'loss': [0.7782172560691833, 0.4683053493499756, 0.31775662302970886, 0.26963186264038086, 0.23639900982379913, 0.21998490393161774, 0.19551502168178558, 0.17994561791419983, 0.1822541356086731, 0.17209768295288086, 0.15388554334640503, 0.14778359234333038, 0.14217382669448853, 0.14015431702136993, 0.12603025138378143, 0.126373752951622, 0.12174396216869354, 0.1356203854084015, 0.10577891021966934, 0.1133042722940445, 0.10368920117616653, 0.12046141922473907, 0.09728417545557022, 0.09796981513500214, 0.09593746811151505, 0.09188137203454971, 0.09771446883678436, 0.09091797471046448, 0.086665578186512, 0.08851924538612366, 0.09580667316913605, 0.08784028887748718, 0.08577744662761688, 0.08654705435037613, 0.08391391485929489, 0.07633104175329208, 0.07360579818487167, 0.06517801433801651, 0.0762566402554512, 0.08566223084926605, 0.07997263222932816, 0.08339912444353104, 0.06742870062589645, 0.07265671342611313, 0.06925587356090546, 0.06718392670154572, 0.06576446443796158, 0.05997778847813606, 0.06699502468109131, 0.0645693764090538, 0.05982571467757225, 0.062291525304317474, 0.05895441025495529, 0.06473703682422638, 0.06019279733300209, 0.052468642592430115, 0.06715942174196243, 0.06240670010447502, 0.05806465819478035, 0.05266329273581505, 0.05782480165362358, 0.04788631573319435, 0.04766774922609329, 0.049885865300893784, 0.049849048256874084, 0.04491742327809334, 0.05304895341396332, 0.05093223601579666, 0.05553339421749115, 0.048803988844156265, 0.051869846880435944, 0.047112636268138885, 0.043455176055431366, 0.040186475962400436, 0.0612192302942276, 0.043995700776576996, 0.038381822407245636, 0.04673822596669197, 0.0581982396543026, 0.04326236620545387, 0.04262727126479149, 0.040347933769226074, 0.04539232328534126, 0.04294809326529503, 0.03909633308649063, 0.03830653801560402, 0.04556180164217949, 0.04554879665374756, 0.04427945986390114, 0.047063518315553665, 0.040332041680812836, 0.03371599316596985, 0.034007422626018524, 0.03465940058231354, 0.03643982112407684, 0.03173090144991875, 0.02763630822300911, 0.02726435661315918, 0.03383088484406471, 0.036631785333156586, 0.03525073081254959, 0.028696618974208832, 0.029543958604335785, 0.024725498631596565, 0.03806255757808685, 0.03328600153326988, 0.023989912122488022, 0.024045949801802635, 0.02720329724252224, 0.03802187368273735, 0.027698153629899025, 0.025150127708911896, 0.03120691142976284, 0.023886671289801598, 0.020958276465535164, 0.0223187617957592, 0.02146906778216362, 0.02554480917751789, 0.017483526840806007, 0.02528836950659752], 'accuracy': [0.5962653160095215, 0.7836445569992065, 0.8712170124053955, 0.897617518901825, 0.9085640907287598, 0.9143593311309814, 0.9298132658004761, 0.9311010837554932, 0.9265936613082886, 0.9336767792701721, 0.9407598376274109, 0.9426915645599365, 0.9439793825149536, 0.9414037466049194, 0.9529942274093628, 0.9517063498497009, 0.9484868049621582, 0.945911169052124, 0.9568576812744141, 0.9536381363868713, 0.955569863319397, 0.9575015902519226, 0.9626529216766357, 0.9626529216766357, 0.9600772857666016, 0.9607211947441101, 0.9575015902519226, 0.959433376789093, 0.9665164351463318, 0.9716677665710449, 0.9626529216766357, 0.9620090126991272, 0.9697359800338745, 0.9632968306541443, 0.9665164351463318, 0.9723116755485535, 0.9684481620788574, 0.9781069159507751, 0.9697359800338745, 0.9626529216766357, 0.9671603441238403, 0.9742434024810791, 0.9742434024810791, 0.9645846486091614, 0.9768190383911133, 0.9723116755485535, 0.9774629473686218, 0.9774629473686218, 0.972955584526062, 0.9768190383911133, 0.9735994935035706, 0.9787508249282837, 0.9768190383911133, 0.9793947339057922, 0.9787508249282837, 0.9806825518608093, 0.9755312204360962, 0.9787508249282837, 0.9768190383911133, 0.9761751294136047, 0.9768190383911133, 0.9806825518608093, 0.9800386428833008, 0.9755312204360962, 0.9832581877708435, 0.9832581877708435, 0.9813264608383179, 0.9806825518608093, 0.9806825518608093, 0.9819703698158264, 0.9787508249282837, 0.9832581877708435, 0.9813264608383179, 0.9858338832855225, 0.9832581877708435, 0.9851899743080139, 0.986477792263031, 0.9845460653305054, 0.9774629473686218, 0.9800386428833008, 0.9819703698158264, 0.9858338832855225, 0.983902096748352, 0.9845460653305054, 0.9845460653305054, 0.9896973371505737, 0.9832581877708435, 0.983902096748352, 0.982614278793335, 0.983902096748352, 0.9871217012405396, 0.9858338832855225, 0.9877656102180481, 0.9884095191955566, 0.9851899743080139, 0.9851899743080139, 0.9903412461280823, 0.9903412461280823, 0.9858338832855225, 0.9884095191955566, 0.9896973371505737, 0.9896973371505737, 0.9903412461280823, 0.9929169416427612, 0.9877656102180481, 0.9884095191955566, 0.9890534281730652, 0.9929169416427612, 0.9896973371505737, 0.9884095191955566, 0.9929169416427612, 0.9896973371505737, 0.9890534281730652, 0.9916291236877441, 0.9903412461280823, 0.9922730326652527, 0.9935608506202698, 0.9922730326652527, 0.9942047595977783, 0.9929169416427612], 'val_loss': [0.43006742000579834, 0.29186129570007324, 0.22814729809761047, 0.2095528542995453, 0.19665536284446716, 0.18481436371803284, 0.1726549118757248, 0.1579936295747757, 0.14847992360591888, 0.14440768957138062, 0.13424897193908691, 0.12815476953983307, 0.12525996565818787, 0.12623387575149536, 0.12317167967557907, 0.12275514751672745, 0.11910951137542725, 0.1106153205037117, 0.10204485058784485, 0.10103221237659454, 0.0997699573636055, 0.10650233179330826, 0.1067546084523201, 0.10533808171749115, 0.10363107919692993, 0.10067441314458847, 0.09846397489309311, 0.09391780197620392, 0.0928371399641037, 0.09333426505327225, 0.078411765396595, 0.0833296999335289, 0.08303938060998917, 0.08997692167758942, 0.09556643664836884, 0.09045492112636566, 0.08323583751916885, 0.07963788509368896, 0.08301178365945816, 0.07580608874559402, 0.08220627158880234, 0.08470004051923752, 0.08215384930372238, 0.08108038455247879, 0.07900594919919968, 0.09692863374948502, 0.09717363864183426, 0.09415776282548904, 0.09451061487197876, 0.09157165139913559, 0.09730692207813263, 0.1174732968211174, 0.1141032874584198, 0.0875893235206604, 0.09364050626754761, 0.10556036978960037, 0.10024015605449677, 0.09484885632991791, 0.09267199784517288, 0.0910872295498848, 0.10640756040811539, 0.0991671159863472, 0.0877922996878624, 0.0941268727183342, 0.10203766077756882, 0.09651622921228409, 0.09101274609565735, 0.09651193767786026, 0.10962904989719391, 0.11387122422456741, 0.11625660210847855, 0.10831674933433533, 0.10446973890066147, 0.09884866327047348, 0.09304287284612656, 0.10523529350757599, 0.10696964710950851, 0.1282808631658554, 0.11472722142934799, 0.11111084371805191, 0.1165623739361763, 0.11202302575111389, 0.10547444224357605, 0.11416485905647278, 0.11080307513475418, 0.11425226926803589, 0.11440074443817139, 0.13209015130996704, 0.16404598951339722, 0.13101054728031158, 0.10868198424577713, 0.11058510839939117, 0.12144458293914795, 0.11837862432003021, 0.1309703141450882, 0.135736346244812, 0.12836450338363647, 0.1273246854543686, 0.13427191972732544, 0.15628854930400848, 0.1468338966369629, 0.1504361778497696, 0.13607537746429443, 0.15185785293579102, 0.15256662666797638, 0.1396167278289795, 0.15779533982276917, 0.1701863408088684, 0.17027468979358673, 0.13763700425624847, 0.1581900715827942, 0.15774275362491608, 0.16158628463745117, 0.16523021459579468, 0.141567662358284, 0.145864337682724, 0.16705229878425598, 0.1699923872947693, 0.1698683500289917, 0.18270590901374817], 'val_accuracy': [0.849711000919342, 0.9248554706573486, 0.9190751314163208, 0.9248554706573486, 0.9248554706573486, 0.9306358098983765, 0.9364162087440491, 0.9364162087440491, 0.9364162087440491, 0.9364162087440491, 0.9479768872261047, 0.9537572264671326, 0.9421965479850769, 0.9479768872261047, 0.9479768872261047, 0.9421965479850769, 0.9364162087440491, 0.9479768872261047, 0.9537572264671326, 0.9537572264671326, 0.9537572264671326, 0.9595375657081604, 0.9595375657081604, 0.9537572264671326, 0.9537572264671326, 0.9595375657081604, 0.9537572264671326, 0.9537572264671326, 0.9653179049491882, 0.9653179049491882, 0.9653179049491882, 0.9653179049491882, 0.9653179049491882, 0.9653179049491882, 0.9537572264671326, 0.9710982441902161, 0.9768785834312439, 0.9768785834312439, 0.9710982441902161, 0.9768785834312439, 0.9710982441902161, 0.9768785834312439, 0.9768785834312439, 0.9768785834312439, 0.9768785834312439, 0.9653179049491882, 0.9768785834312439, 0.9768785834312439, 0.9710982441902161, 0.9710982441902161, 0.9710982441902161, 0.9710982441902161, 0.9710982441902161, 0.9768785834312439, 0.9768785834312439, 0.9768785834312439, 0.9768785834312439, 0.9710982441902161, 0.9768785834312439, 0.9768785834312439, 0.9710982441902161, 0.9768785834312439, 0.9768785834312439, 0.9768785834312439, 0.9710982441902161, 0.9710982441902161, 0.9768785834312439, 0.9768785834312439, 0.9768785834312439, 0.9768785834312439, 0.9768785834312439, 0.9768785834312439, 0.9826589822769165, 0.9826589822769165, 0.9826589822769165, 0.9826589822769165, 0.9826589822769165, 0.9653179049491882, 0.9768785834312439, 0.9826589822769165, 0.9826589822769165, 0.9826589822769165, 0.9768785834312439, 0.9768785834312439, 0.9826589822769165, 0.9826589822769165, 0.9826589822769165, 0.9826589822769165, 0.9710982441902161, 0.9768785834312439, 0.9826589822769165, 0.9826589822769165, 0.9768785834312439, 0.9768785834312439, 0.9826589822769165, 0.9710982441902161, 0.9826589822769165, 0.9826589822769165, 0.9826589822769165, 0.9768785834312439, 0.9768785834312439, 0.9768785834312439, 0.9826589822769165, 0.9768785834312439, 0.9768785834312439, 0.9768785834312439, 0.9768785834312439, 0.9768785834312439, 0.9710982441902161, 0.9768785834312439, 0.9768785834312439, 0.9768785834312439, 0.9826589822769165, 0.9768785834312439, 0.9826589822769165, 0.9710982441902161, 0.9768785834312439, 0.9710982441902161, 0.9710982441902161, 0.9710982441902161]}\n"
          ]
        }
      ]
    },
    {
      "cell_type": "code",
      "metadata": {
        "id": "HumOV6p0lc73"
      },
      "source": [
        "from sklearn.metrics import roc_curve\n",
        "pred_prob1 = model.predict_proba(X_test)\n",
        "# roc curve for models\n",
        "fpr1, tpr1, thresh1 = roc_curve(y_test, pred_prob1[:,1], pos_label=1)\n",
        "\n",
        "# roc curve for tpr = fpr \n",
        "random_probs = [0 for i in range(len(y_test))]\n",
        "p_fpr, p_tpr, _ = roc_curve(y_test, random_probs, pos_label=1)"
      ],
      "execution_count": null,
      "outputs": []
    },
    {
      "cell_type": "code",
      "metadata": {
        "id": "Zby_YaMkmgqC"
      },
      "source": [
        "from sklearn.metrics import roc_curve\n",
        "\n",
        "# roc curve for models\n",
        "fpr1, tpr1, thresh1 = roc_curve(y_test, pred_prob1[:,1], pos_label=1)\n",
        "\n",
        "\n",
        "# roc curve for tpr = fpr \n",
        "random_probs = [0 for i in range(len(y_test))]\n",
        "p_fpr, p_tpr, _ = roc_curve(y_test, random_probs, pos_label=1)"
      ],
      "execution_count": null,
      "outputs": []
    },
    {
      "cell_type": "code",
      "metadata": {
        "colab": {
          "base_uri": "https://localhost:8080/"
        },
        "id": "Wd-yFa2Km3vG",
        "outputId": "59edae96-8d90-47b2-e209-54e2796f815e"
      },
      "source": [
        "from sklearn.metrics import roc_auc_score\n",
        "\n",
        "# auc scores\n",
        "auc_score1 = roc_auc_score(y_test, pred_prob1[:,1])\n",
        "\n",
        "\n",
        "print(auc_score1)"
      ],
      "execution_count": null,
      "outputs": [
        {
          "output_type": "stream",
          "name": "stdout",
          "text": [
            "0.9581081081081082\n"
          ]
        }
      ]
    },
    {
      "cell_type": "code",
      "metadata": {
        "colab": {
          "base_uri": "https://localhost:8080/",
          "height": 393
        },
        "id": "ZDyNlpg7m-3R",
        "outputId": "6b3fb501-fdd3-4fd9-fdc4-a4541a56144c"
      },
      "source": [
        "import matplotlib.pyplot as plt\n",
        "plt.style.use('seaborn')\n",
        "\n",
        "# plot roc curves\n",
        "plt.plot(fpr1, tpr1, linestyle='--',color='orange')\n",
        "plt.plot(p_fpr, p_tpr, linestyle='--', color='blue')\n",
        "# title\n",
        "plt.title('ROC curve')\n",
        "# x label\n",
        "plt.xlabel('False Positive Rate')\n",
        "# y label\n",
        "plt.ylabel('True Positive rate')\n",
        "\n",
        "plt.legend(loc='best')\n",
        "plt.savefig('ROC',dpi=300)\n",
        "plt.show();"
      ],
      "execution_count": null,
      "outputs": [
        {
          "output_type": "stream",
          "name": "stderr",
          "text": [
            "WARNING:matplotlib.legend:No handles with labels found to put in legend.\n"
          ]
        },
        {
          "output_type": "display_data",
          "data": {
            "text/plain": [
              "<Figure size 576x396 with 1 Axes>"
            ],
            "image/png": "[encoded data removed]"
          },
          "metadata": {}
        }
      ]
    },
    {
      "cell_type": "code",
      "metadata": {
        "id": "kJ1GcdRRnHXE"
      },
      "source": [],
      "execution_count": null,
      "outputs": []
    }
  ]
}